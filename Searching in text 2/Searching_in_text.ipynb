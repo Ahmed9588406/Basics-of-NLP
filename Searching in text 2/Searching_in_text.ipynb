{
 "cells": [
  {
   "cell_type": "code",
   "execution_count": 19,
   "metadata": {},
   "outputs": [],
   "source": [
    "import re"
   ]
  },
  {
   "cell_type": "code",
   "execution_count": 20,
   "metadata": {},
   "outputs": [],
   "source": [
    "text = \"My telephone number is 408-555-1234\""
   ]
  },
  {
   "cell_type": "code",
   "execution_count": 21,
   "metadata": {},
   "outputs": [],
   "source": [
    "# If we want to search for a specific pattern (numbers)\n",
    "phone = re.search(r\"\\d\\d\\d-\\d\\d\\d-\\d\\d\\d\\d\", text)\n"
   ]
  },
  {
   "cell_type": "code",
   "execution_count": 22,
   "metadata": {},
   "outputs": [
    {
     "data": {
      "text/plain": [
       "'408-555-1234'"
      ]
     },
     "execution_count": 22,
     "metadata": {},
     "output_type": "execute_result"
    }
   ],
   "source": [
    "phone.group() # To show the mathes we use group() it returns the first match"
   ]
  },
  {
   "cell_type": "code",
   "execution_count": 32,
   "metadata": {},
   "outputs": [],
   "source": [
    "# Or Like that\n",
    "phone_pattern =r'(\\d{3})-(\\d{3})-(\\d{4})' \n"
   ]
  },
  {
   "cell_type": "code",
   "execution_count": 34,
   "metadata": {},
   "outputs": [
    {
     "data": {
      "text/plain": [
       "<re.Match object; span=(23, 35), match='408-555-1234'>"
      ]
     },
     "execution_count": 34,
     "metadata": {},
     "output_type": "execute_result"
    }
   ],
   "source": [
    "result= re.search(phone_pattern, text)\n",
    "result\n"
   ]
  },
  {
   "cell_type": "code",
   "execution_count": 31,
   "metadata": {},
   "outputs": [
    {
     "name": "stdout",
     "output_type": "stream",
     "text": [
      "<re.Match object; span=(23, 35), match='408-555-1234'>\n"
     ]
    }
   ],
   "source": [
    "print(re.search(r'(\\d{3})-(\\d{3})-(\\d{4})', text))"
   ]
  },
  {
   "cell_type": "code",
   "execution_count": 35,
   "metadata": {},
   "outputs": [
    {
     "data": {
      "text/plain": [
       "'408-555-1234'"
      ]
     },
     "execution_count": 35,
     "metadata": {},
     "output_type": "execute_result"
    }
   ],
   "source": [
    "result.group()"
   ]
  },
  {
   "cell_type": "code",
   "execution_count": 36,
   "metadata": {},
   "outputs": [
    {
     "data": {
      "text/plain": [
       "('408', '555', '1234')"
      ]
     },
     "execution_count": 36,
     "metadata": {},
     "output_type": "execute_result"
    }
   ],
   "source": [
    "# and for spliting\n",
    "result.group(1), result.group(2), result.group(3)"
   ]
  },
  {
   "cell_type": "code",
   "execution_count": 38,
   "metadata": {},
   "outputs": [
    {
     "data": {
      "text/plain": [
       "<re.Match object; span=(5, 8), match='man'>"
      ]
     },
     "execution_count": 38,
     "metadata": {},
     "output_type": "execute_result"
    }
   ],
   "source": [
    "re.search(r\"man|woman\",\"This man was here.\")\n"
   ]
  },
  {
   "cell_type": "code",
   "execution_count": 39,
   "metadata": {},
   "outputs": [
    {
     "data": {
      "text/plain": [
       "<re.Match object; span=(5, 10), match='woman'>"
      ]
     },
     "execution_count": 39,
     "metadata": {},
     "output_type": "execute_result"
    }
   ],
   "source": [
    "re.search(r\"man|woman\",\"This woman was here\")"
   ]
  },
  {
   "cell_type": "code",
   "execution_count": 40,
   "metadata": {},
   "outputs": [
    {
     "data": {
      "text/plain": [
       "['bat', 'lat']"
      ]
     },
     "execution_count": 40,
     "metadata": {},
     "output_type": "execute_result"
    }
   ],
   "source": [
    "# Here this regular exp with . gives one character previous\n",
    "re.findall(r\".at\",\"The bat went splat\")"
   ]
  },
  {
   "cell_type": "code",
   "execution_count": 42,
   "metadata": {},
   "outputs": [
    {
     "data": {
      "text/plain": [
       "['e bat', 'splat']"
      ]
     },
     "execution_count": 42,
     "metadata": {},
     "output_type": "execute_result"
    }
   ],
   "source": [
    "# If we give him two points, he will deal with words with five letters\n",
    "re.findall(r\"...at\", \"The bat went splat\")"
   ]
  },
  {
   "cell_type": "code",
   "execution_count": 44,
   "metadata": {},
   "outputs": [
    {
     "data": {
      "text/plain": [
       "['bat', 'splat']"
      ]
     },
     "execution_count": 44,
     "metadata": {},
     "output_type": "execute_result"
    }
   ],
   "source": [
    "# If you want it to specify any of the unknown letters, we use \\S to indicate non-space letters, with the + sign to specify\n",
    "# Any number exists\n",
    "re.findall(r\"\\S+at\",\"The bat went splat\")"
   ]
  },
  {
   "cell_type": "code",
   "execution_count": 45,
   "metadata": {},
   "outputs": [
    {
     "data": {
      "text/plain": [
       "['8']"
      ]
     },
     "execution_count": 45,
     "metadata": {},
     "output_type": "execute_result"
    }
   ],
   "source": [
    "# $ is also used to specify that the letters required are at the end, so if we use it with d, then what is required is the last number\n",
    "re.findall(r\"\\d$\", \"This ends with a number 28\")"
   ]
  },
  {
   "cell_type": "code",
   "execution_count": 46,
   "metadata": {},
   "outputs": [
    {
     "data": {
      "text/plain": [
       "['1']"
      ]
     },
     "execution_count": 46,
     "metadata": {},
     "output_type": "execute_result"
    }
   ],
   "source": [
    "# Or use ^ to indicate the beginning\n",
    "re.findall(r\"^\\d\", \"1 is the loneliest number.\")"
   ]
  },
  {
   "cell_type": "code",
   "execution_count": 48,
   "metadata": {},
   "outputs": [
    {
     "data": {
      "text/plain": [
       "['T',\n",
       " 'h',\n",
       " 'e',\n",
       " 'r',\n",
       " 'e',\n",
       " ' ',\n",
       " 'a',\n",
       " 'r',\n",
       " 'e',\n",
       " ' ',\n",
       " ' ',\n",
       " 'n',\n",
       " 'u',\n",
       " 'm',\n",
       " 'b',\n",
       " 'e',\n",
       " 'r',\n",
       " 's',\n",
       " ' ',\n",
       " ' ',\n",
       " 'i',\n",
       " 'n',\n",
       " 's',\n",
       " 'i',\n",
       " 'd',\n",
       " 'e',\n",
       " ' ',\n",
       " ' ',\n",
       " 't',\n",
       " 'h',\n",
       " 'i',\n",
       " 's',\n",
       " ' ',\n",
       " 's',\n",
       " 'e',\n",
       " 'n',\n",
       " 't',\n",
       " 'e',\n",
       " 'n',\n",
       " 'c',\n",
       " 'e',\n",
       " '.']"
      ]
     },
     "execution_count": 48,
     "metadata": {},
     "output_type": "execute_result"
    }
   ],
   "source": [
    "# It is possible to perform a reverse search, that is, to search for anything other than that, by using [ ]\n",
    "phrase = \"There are 3 numbers 34 inside 5 this sentence.\"\n",
    "re.findall(r\"[^\\d]\", phrase)"
   ]
  },
  {
   "cell_type": "code",
   "execution_count": 50,
   "metadata": {},
   "outputs": [
    {
     "data": {
      "text/plain": [
       "['3', '3', '4', '5']"
      ]
     },
     "execution_count": 50,
     "metadata": {},
     "output_type": "execute_result"
    }
   ],
   "source": [
    "re.findall(r\"\\d\", phrase)"
   ]
  },
  {
   "cell_type": "code",
   "execution_count": 51,
   "metadata": {},
   "outputs": [
    {
     "data": {
      "text/plain": [
       "['This is a string', ' But is has punctuation', ' How can we remove it']"
      ]
     },
     "execution_count": 51,
     "metadata": {},
     "output_type": "execute_result"
    }
   ],
   "source": [
    "# It can be used to remove all punctuation characters like this:\n",
    "test_phrase = \"This is a string! But is has punctuation. How can we remove it?\"\n",
    "re.findall(r\"[^!.?]+\", test_phrase)"
   ]
  },
  {
   "cell_type": "code",
   "execution_count": 57,
   "metadata": {},
   "outputs": [
    {
     "name": "stdout",
     "output_type": "stream",
     "text": [
      "This is a string But is has punctuation How can we remove it\n"
     ]
    }
   ],
   "source": [
    "clean = \" \".join(re.findall(r\"[^!.? ]+\", test_phrase))\n",
    "print(clean)"
   ]
  },
  {
   "cell_type": "code",
   "execution_count": 60,
   "metadata": {},
   "outputs": [
    {
     "data": {
      "text/plain": [
       "['hypen-words', 'long-ish']"
      ]
     },
     "execution_count": 60,
     "metadata": {},
     "output_type": "execute_result"
    }
   ],
   "source": [
    "# Another example is to search for any letters w, then a dash - then letters\n",
    "text = \"Only find the hypen-words in this sentence. But you do not know how long-ish they are\"\n",
    "re.findall(r\"[\\w]+-[\\w]+\", text)"
   ]
  },
  {
   "cell_type": "code",
   "execution_count": 64,
   "metadata": {},
   "outputs": [
    {
     "data": {
      "text/plain": [
       "'586-986-9965'"
      ]
     },
     "execution_count": 64,
     "metadata": {},
     "output_type": "execute_result"
    }
   ],
   "source": [
    "# Same thing in arabic\n",
    "text = \"رقم هاتفي هو 586-986-9965\"\n",
    "phone = re.search(r\"\\d\\d\\d-\\d\\d\\d-\\d\\d\\d\\d\",text)\n",
    "phone.group()"
   ]
  },
  {
   "cell_type": "code",
   "execution_count": 72,
   "metadata": {},
   "outputs": [
    {
     "data": {
      "text/plain": [
       "'586-986-9965'"
      ]
     },
     "execution_count": 72,
     "metadata": {},
     "output_type": "execute_result"
    }
   ],
   "source": [
    "phoene = re.search(r\"\\d{3}-\\d{3}-\\d{4}\",text)\n",
    "phone.group()"
   ]
  },
  {
   "cell_type": "code",
   "execution_count": 76,
   "metadata": {},
   "outputs": [
    {
     "data": {
      "text/plain": [
       "('586', '986', '9965')"
      ]
     },
     "execution_count": 76,
     "metadata": {},
     "output_type": "execute_result"
    }
   ],
   "source": [
    "phone_pattern =(r'(\\d{3})-(\\d{3})-(\\d{4})') \n",
    "results = re.search(phone_pattern, text)\n",
    "results.group(1), results.group(2),results.group(3)"
   ]
  },
  {
   "cell_type": "code",
   "execution_count": 79,
   "metadata": {},
   "outputs": [
    {
     "name": "stdout",
     "output_type": "stream",
     "text": [
      "<re.Match object; span=(4, 8), match='محمد'>\n",
      "<re.Match object; span=(8, 11), match='مني'>\n"
     ]
    }
   ],
   "source": [
    "text1 = \"ذهب محمد الي الجامعة\"\n",
    "text2 = \"استيقظت مني من النوم\"\n",
    "print(re.search(r\"مني|محمد\",text1))\n",
    "print(re.search(r\"مني|محمد\",text2))"
   ]
  },
  {
   "cell_type": "code",
   "execution_count": 80,
   "metadata": {},
   "outputs": [
    {
     "data": {
      "text/plain": [
       "['بات', 'رات']"
      ]
     },
     "execution_count": 80,
     "metadata": {},
     "output_type": "execute_result"
    }
   ],
   "source": [
    "text1 = \"ذهبت الطالبات لحضور عدد من المحاضرات في جامعتين\"\n",
    "re.findall(r\".ات\",text1)"
   ]
  },
  {
   "cell_type": "code",
   "execution_count": 81,
   "metadata": {},
   "outputs": [
    {
     "data": {
      "text/plain": [
       "['لبات', 'ضرات']"
      ]
     },
     "execution_count": 81,
     "metadata": {},
     "output_type": "execute_result"
    }
   ],
   "source": [
    "text1 = \"ذهبت الطالبات لحضور عدد من المحاضرات في جامعتين\"\n",
    "re.findall(r\"..ات\",text1)"
   ]
  },
  {
   "cell_type": "code",
   "execution_count": 82,
   "metadata": {},
   "outputs": [
    {
     "data": {
      "text/plain": [
       "['ذ',\n",
       " 'ه',\n",
       " 'ب',\n",
       " 'ت',\n",
       " 'ا',\n",
       " 'ل',\n",
       " 'ط',\n",
       " 'ا',\n",
       " 'ل',\n",
       " 'ب',\n",
       " 'ا',\n",
       " 'ت',\n",
       " 'ل',\n",
       " 'ح',\n",
       " 'ض',\n",
       " 'و',\n",
       " 'ر',\n",
       " 'ع',\n",
       " 'د',\n",
       " 'د',\n",
       " 'م',\n",
       " 'ن',\n",
       " 'ا',\n",
       " 'ل',\n",
       " 'م',\n",
       " 'ح',\n",
       " 'ا',\n",
       " 'ض',\n",
       " 'ر',\n",
       " 'ا',\n",
       " 'ت',\n",
       " 'ف',\n",
       " 'ي',\n",
       " 'ج',\n",
       " 'ا',\n",
       " 'م',\n",
       " 'ع',\n",
       " 'ت',\n",
       " 'ي',\n",
       " 'ن']"
      ]
     },
     "execution_count": 82,
     "metadata": {},
     "output_type": "execute_result"
    }
   ],
   "source": [
    "text1 = \"ذهبت الطالبات لحضور عدد من المحاضرات في جامعتين\"\n",
    "re.findall(r\"\\S\",text1)"
   ]
  },
  {
   "cell_type": "code",
   "execution_count": 83,
   "metadata": {},
   "outputs": [
    {
     "data": {
      "text/plain": [
       "['رج مسافة ', ' كيلو متر من الساعة ', ' الي الساعة ']"
      ]
     },
     "execution_count": 83,
     "metadata": {},
     "output_type": "execute_result"
    }
   ],
   "source": [
    "phrase = \"رج مسافة 50 كيلو متر من الساعة 8 الي الساعة 10\"\n",
    "re.findall(r'[^\\d]+',phrase) "
   ]
  },
  {
   "cell_type": "code",
   "execution_count": 85,
   "metadata": {},
   "outputs": [
    {
     "data": {
      "text/plain": [
       "[' ',\n",
       " ' ',\n",
       " 'م',\n",
       " 'ا',\n",
       " 'ذ',\n",
       " 'ا',\n",
       " ' ',\n",
       " '؟',\n",
       " ' ',\n",
       " '؟',\n",
       " ' ',\n",
       " 'ك',\n",
       " 'ي',\n",
       " 'ف',\n",
       " ' ',\n",
       " 'ت',\n",
       " 'ج',\n",
       " 'ر',\n",
       " 'ؤ',\n",
       " ' ',\n",
       " ' ',\n",
       " ',',\n",
       " ' ',\n",
       " 'ه',\n",
       " 'ل',\n",
       " ' ',\n",
       " 'ت',\n",
       " 'ت',\n",
       " 'خ',\n",
       " 'ي',\n",
       " 'ل',\n",
       " ' ',\n",
       " 'ع',\n",
       " 'ا',\n",
       " 'ق',\n",
       " 'ب',\n",
       " 'ة',\n",
       " ' ',\n",
       " 'ه',\n",
       " 'ذ',\n",
       " 'ا',\n",
       " ' ',\n",
       " 'ا',\n",
       " 'ل',\n",
       " 'أ',\n",
       " 'م',\n",
       " 'ر',\n",
       " ' ',\n",
       " '؟',\n",
       " ' ',\n",
       " '؟',\n",
       " ' ',\n",
       " ',',\n",
       " ' ',\n",
       " 'و',\n",
       " 'ي',\n",
       " 'ل',\n",
       " ' ',\n",
       " 'ل',\n",
       " 'ه',\n",
       " ' ']"
      ]
     },
     "execution_count": 85,
     "metadata": {},
     "output_type": "execute_result"
    }
   ],
   "source": [
    "phrase_test =' . ماذا ؟ ؟ كيف تجرؤ !! , هل تتخيل عاقبة هذا الأمر ؟ ؟ , ويل له ' \n",
    "re.findall('[^!.?]',phrase_test) "
   ]
  },
  {
   "cell_type": "code",
   "execution_count": 92,
   "metadata": {},
   "outputs": [
    {
     "data": {
      "text/plain": [
       "'  ماذا   كيف تجرؤ  , هل تتخيل عاقبة هذا الأمر   , ويل له '"
      ]
     },
     "execution_count": 92,
     "metadata": {},
     "output_type": "execute_result"
    }
   ],
   "source": [
    "clean = \"\".join(re.findall(\"[^؟!.]+\",phrase_test))\n",
    "clean"
   ]
  },
  {
   "cell_type": "code",
   "execution_count": 93,
   "metadata": {},
   "outputs": [
    {
     "data": {
      "text/plain": [
       "['نيو-يورك']"
      ]
     },
     "execution_count": 93,
     "metadata": {},
     "output_type": "execute_result"
    }
   ],
   "source": [
    "text ='ذهبت الي مدينة نيو-يورك , و منها الي سان- فرانسيسكو'\n",
    "re.findall(r\"[\\w]+-[\\w]+\", text)"
   ]
  },
  {
   "cell_type": "code",
   "execution_count": null,
   "metadata": {},
   "outputs": [],
   "source": []
  }
 ],
 "metadata": {
  "kernelspec": {
   "display_name": "ahmed",
   "language": "python",
   "name": "python3"
  },
  "language_info": {
   "codemirror_mode": {
    "name": "ipython",
    "version": 3
   },
   "file_extension": ".py",
   "mimetype": "text/x-python",
   "name": "python",
   "nbconvert_exporter": "python",
   "pygments_lexer": "ipython3",
   "version": "3.11.5"
  }
 },
 "nbformat": 4,
 "nbformat_minor": 2
}
