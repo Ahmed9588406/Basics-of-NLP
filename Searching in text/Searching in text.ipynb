{
 "cells": [
  {
   "cell_type": "code",
   "execution_count": 1,
   "metadata": {},
   "outputs": [],
   "source": [
    "import re # For regular expression\n"
   ]
  },
  {
   "cell_type": "code",
   "execution_count": 5,
   "metadata": {},
   "outputs": [
    {
     "data": {
      "text/plain": [
       "(12, 17)"
      ]
     },
     "execution_count": 5,
     "metadata": {},
     "output_type": "execute_result"
    }
   ],
   "source": [
    "pattern = \"phone\"\n",
    "\n",
    "text = \"The agent's phone number is 408-555-1234. Call soon!\"\n",
    "\n",
    "match = re.search(pattern, text)\n",
    "match.span() # that output tells us that the pattern found from 12 to 17"
   ]
  },
  {
   "cell_type": "code",
   "execution_count": 6,
   "metadata": {},
   "outputs": [
    {
     "data": {
      "text/plain": [
       "(12, 17)"
      ]
     },
     "execution_count": 6,
     "metadata": {},
     "output_type": "execute_result"
    }
   ],
   "source": [
    "# Or using start and end methods\n",
    "match.start(), match.end()\n"
   ]
  },
  {
   "cell_type": "code",
   "execution_count": 7,
   "metadata": {},
   "outputs": [
    {
     "data": {
      "text/plain": [
       "4"
      ]
     },
     "execution_count": 7,
     "metadata": {},
     "output_type": "execute_result"
    }
   ],
   "source": [
    "text = \"\"\"\n",
    "A telephone is a telecommunications device that permits two or more users to conduct a conversation when \n",
    "they are too far apart to be heard directly. A telephone converts sound, typically and most efficiently the human \n",
    "voice, \n",
    "into electronic signals that are transmitted via cables and other communication channels to another telephone \n",
    "which \n",
    "reproduces the sound to the receiving user. The term is derived from Greek: τῆλε (tēle, far) and φωνή (phōnē, \n",
    "voice), \n",
    "together meaning distant voice. A common short form of the term is phone, which came into use almost \n",
    "immediately after \n",
    "the first patent was issued.[1] '\n",
    "\n",
    "\"\"\"\n",
    "\n",
    "matches = re.findall(pattern, text)\n",
    "len(matches)"
   ]
  },
  {
   "cell_type": "code",
   "execution_count": 8,
   "metadata": {},
   "outputs": [
    {
     "name": "stdout",
     "output_type": "stream",
     "text": [
      "(7, 12)\n",
      "(158, 163)\n",
      "(334, 339)\n",
      "(535, 540)\n"
     ]
    }
   ],
   "source": [
    "for match in re.finditer(pattern, text):\n",
    "    print(match.span())"
   ]
  },
  {
   "cell_type": "code",
   "execution_count": 9,
   "metadata": {},
   "outputs": [],
   "source": [
    "pattern = \"نسبية\"\n",
    "\n",
    "\n",
    "text = \"\"\"\n",
    "ورقة أينشتاين العلمية الثالثة كانت عن \"نظرية النسبية الخاصة\"، اقترحها ونشرها في 26 سبتمبر 1905 بعنوان \"الإلكتروديناميك للأجسام \n",
    " .\"المتحركة\n",
    "فتناولت الورقة الزمان، والمكان، والكتلة، والطاقة، وأسهمت نظرية أينشتاين بإزالة الغموض الذي نجم عن التجربة الشهيرة التي أجراها \n",
    " الأمريكيان\n",
    "31 \n",
    "الفيزيائي ألبرت ميكلسون والكيميائي إدوارد مورلي) أواخر القرن التاسع عشر في عام ،1887 فقد أثبت أينشتاين أن موجات الضوء تستطيع أن )\n",
    "تنتشر في الخلاء\n",
    "دون الحاجة لوجود وسط أو مجال، على خلاف الموجات الأخرى المعروفة التي تحتاج إلى وسط تنتشر فيه كالهواء أو الماء وأن سرعة الضوء\n",
    "هي سرعة ثابتة وليست نسبية مع حركة المراقب (الملاحظ)، وتجدر الإشارة إلى أن نظرية أينشتاين تلك تناقضت بشكل كلّي مع استنتاجات\n",
    "سِّميت بالنسبية العامة\"\n",
    "ُ\n",
    " .إسحاق نيوتن\". جاءت تسمية النظرية بالخاصة للتفريق بينها وبين نظرية أينشتاين اللاحقة التي\n",
    " .اعتبارا من اليوم، النسبية الخاصة هي النموذج الأكثر دقة للحركة بأي سرعة عندما تكون تأثيرات الجاذبية ضئيلة\n",
    "را لبساطته ودقته العالية في نطاقه\n",
    "دا كقياس سرعات صغيرة بالنسبة لسرعة الضوء، نظ ً\n",
    "ً\n",
    " .ومع ذلك، لا يزال نموذج ميكانيكا نيوتن مفي\n",
    "\n",
    "\n",
    "\"\"\""
   ]
  },
  {
   "cell_type": "code",
   "execution_count": 11,
   "metadata": {},
   "outputs": [
    {
     "data": {
      "text/plain": [
       "(48, 53)"
      ]
     },
     "execution_count": 11,
     "metadata": {},
     "output_type": "execute_result"
    }
   ],
   "source": [
    "match = re.search(pattern, text)\n",
    "\n",
    "\n",
    "match.span()"
   ]
  },
  {
   "cell_type": "code",
   "execution_count": 12,
   "metadata": {},
   "outputs": [
    {
     "data": {
      "text/plain": [
       "(48, 53)"
      ]
     },
     "execution_count": 12,
     "metadata": {},
     "output_type": "execute_result"
    }
   ],
   "source": [
    "match.start(), match.end()"
   ]
  },
  {
   "cell_type": "code",
   "execution_count": 14,
   "metadata": {},
   "outputs": [
    {
     "data": {
      "text/plain": [
       "4"
      ]
     },
     "execution_count": 14,
     "metadata": {},
     "output_type": "execute_result"
    }
   ],
   "source": [
    "matches = re.findall(pattern,text)\n",
    "len(matches)"
   ]
  },
  {
   "cell_type": "code",
   "execution_count": 15,
   "metadata": {},
   "outputs": [
    {
     "name": "stdout",
     "output_type": "stream",
     "text": [
      "(48, 53)\n",
      "(574, 579)\n",
      "(687, 692)\n",
      "(815, 820)\n"
     ]
    }
   ],
   "source": [
    "for i in re.finditer(pattern, text):\n",
    "    print(i.span())"
   ]
  },
  {
   "cell_type": "code",
   "execution_count": null,
   "metadata": {},
   "outputs": [],
   "source": []
  }
 ],
 "metadata": {
  "kernelspec": {
   "display_name": "ahmed",
   "language": "python",
   "name": "python3"
  },
  "language_info": {
   "codemirror_mode": {
    "name": "ipython",
    "version": 3
   },
   "file_extension": ".py",
   "mimetype": "text/x-python",
   "name": "python",
   "nbconvert_exporter": "python",
   "pygments_lexer": "ipython3",
   "version": "3.11.5"
  }
 },
 "nbformat": 4,
 "nbformat_minor": 2
}
